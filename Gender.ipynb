{
 "cells": [
  {
   "cell_type": "markdown",
   "metadata": {},
   "source": [
    "## Gender Classification/Prediction of Names"
   ]
  },
  {
   "cell_type": "code",
   "execution_count": 1,
   "metadata": {},
   "outputs": [],
   "source": [
    "# Importing EDA libraries\n",
    "\n",
    "import pandas as pd\n",
    "import numpy as np"
   ]
  },
  {
   "cell_type": "code",
   "execution_count": 2,
   "metadata": {},
   "outputs": [
    {
     "data": {
      "text/html": [
       "<div>\n",
       "<style scoped>\n",
       "    .dataframe tbody tr th:only-of-type {\n",
       "        vertical-align: middle;\n",
       "    }\n",
       "\n",
       "    .dataframe tbody tr th {\n",
       "        vertical-align: top;\n",
       "    }\n",
       "\n",
       "    .dataframe thead th {\n",
       "        text-align: right;\n",
       "    }\n",
       "</style>\n",
       "<table border=\"1\" class=\"dataframe\">\n",
       "  <thead>\n",
       "    <tr style=\"text-align: right;\">\n",
       "      <th></th>\n",
       "      <th>Names</th>\n",
       "      <th>Gender</th>\n",
       "      <th>Score</th>\n",
       "    </tr>\n",
       "  </thead>\n",
       "  <tbody>\n",
       "    <tr>\n",
       "      <th>0</th>\n",
       "      <td>Aaban</td>\n",
       "      <td>M</td>\n",
       "      <td>1.0</td>\n",
       "    </tr>\n",
       "    <tr>\n",
       "      <th>1</th>\n",
       "      <td>Aabha</td>\n",
       "      <td>F</td>\n",
       "      <td>1.0</td>\n",
       "    </tr>\n",
       "    <tr>\n",
       "      <th>2</th>\n",
       "      <td>Aabid</td>\n",
       "      <td>M</td>\n",
       "      <td>1.0</td>\n",
       "    </tr>\n",
       "    <tr>\n",
       "      <th>3</th>\n",
       "      <td>Aabriella</td>\n",
       "      <td>F</td>\n",
       "      <td>1.0</td>\n",
       "    </tr>\n",
       "    <tr>\n",
       "      <th>4</th>\n",
       "      <td>Aada</td>\n",
       "      <td>F</td>\n",
       "      <td>1.0</td>\n",
       "    </tr>\n",
       "  </tbody>\n",
       "</table>\n",
       "</div>"
      ],
      "text/plain": [
       "       Names Gender  Score\n",
       "0      Aaban      M    1.0\n",
       "1      Aabha      F    1.0\n",
       "2      Aabid      M    1.0\n",
       "3  Aabriella      F    1.0\n",
       "4       Aada      F    1.0"
      ]
     },
     "execution_count": 2,
     "metadata": {},
     "output_type": "execute_result"
    }
   ],
   "source": [
    "# Loading our csv file as our dataset doesn't have any columns we are using names from pandas read_csv attribute\n",
    "\n",
    "df = pd.read_csv('name_gender.csv',names=['Names','Gender','Score'])\n",
    "df.head()"
   ]
  },
  {
   "cell_type": "code",
   "execution_count": 3,
   "metadata": {},
   "outputs": [
    {
     "data": {
      "text/plain": [
       "285075"
      ]
     },
     "execution_count": 3,
     "metadata": {},
     "output_type": "execute_result"
    }
   ],
   "source": [
    "#size of our dataset \n",
    "df.size"
   ]
  },
  {
   "cell_type": "code",
   "execution_count": 4,
   "metadata": {},
   "outputs": [
    {
     "data": {
      "text/plain": [
       "Names     0\n",
       "Gender    0\n",
       "Score     0\n",
       "dtype: int64"
      ]
     },
     "execution_count": 4,
     "metadata": {},
     "output_type": "execute_result"
    }
   ],
   "source": [
    "# Checking for any Null values in our dataset\n",
    "\n",
    "df.isnull().sum()"
   ]
  },
  {
   "cell_type": "code",
   "execution_count": 5,
   "metadata": {},
   "outputs": [
    {
     "data": {
      "text/plain": [
       "Names      object\n",
       "Gender     object\n",
       "Score     float64\n",
       "dtype: object"
      ]
     },
     "execution_count": 5,
     "metadata": {},
     "output_type": "execute_result"
    }
   ],
   "source": [
    "#datatypes\n",
    "df.dtypes"
   ]
  },
  {
   "cell_type": "code",
   "execution_count": 6,
   "metadata": {},
   "outputs": [
    {
     "data": {
      "text/plain": [
       "180912"
      ]
     },
     "execution_count": 6,
     "metadata": {},
     "output_type": "execute_result"
    }
   ],
   "source": [
    "# Number of female names\n",
    "\n",
    "df[df.Gender == 'F'].size"
   ]
  },
  {
   "cell_type": "code",
   "execution_count": 7,
   "metadata": {},
   "outputs": [
    {
     "data": {
      "text/plain": [
       "104163"
      ]
     },
     "execution_count": 7,
     "metadata": {},
     "output_type": "execute_result"
    }
   ],
   "source": [
    "# Number of male names\n",
    "\n",
    "df[df.Gender == 'M'].size"
   ]
  },
  {
   "cell_type": "code",
   "execution_count": 8,
   "metadata": {},
   "outputs": [],
   "source": [
    "#Replacing all the 'F' and 'M' with 0 and 1 respectively\n",
    "df_names = df\n",
    "df_names.Gender.replace({'F':0,'M':1},inplace=True)"
   ]
  },
  {
   "cell_type": "code",
   "execution_count": 9,
   "metadata": {},
   "outputs": [
    {
     "data": {
      "text/plain": [
       "0    60304\n",
       "1    34721\n",
       "Name: Gender, dtype: int64"
      ]
     },
     "execution_count": 9,
     "metadata": {},
     "output_type": "execute_result"
    }
   ],
   "source": [
    "df_names.Gender.value_counts()"
   ]
  },
  {
   "cell_type": "code",
   "execution_count": 10,
   "metadata": {},
   "outputs": [],
   "source": [
    "X_features = df_names.Names"
   ]
  },
  {
   "cell_type": "code",
   "execution_count": null,
   "metadata": {},
   "outputs": [],
   "source": [
    "# Ml Packages\n",
    "from sklearn.feature_extraction.text import CountVectorizer"
   ]
  },
  {
   "cell_type": "code",
   "execution_count": 12,
   "metadata": {},
   "outputs": [],
   "source": [
    "#Feature Extraction\n",
    "cv = CountVectorizer()\n",
    "X = cv.fit_transform(X_features)"
   ]
  },
  {
   "cell_type": "code",
   "execution_count": 13,
   "metadata": {},
   "outputs": [
    {
     "data": {
      "text/plain": [
       "['aaban',\n",
       " 'aabha',\n",
       " 'aabid',\n",
       " 'aabriella',\n",
       " 'aada',\n",
       " 'aadam',\n",
       " 'aadan',\n",
       " 'aadarsh',\n",
       " 'aaden',\n",
       " 'aadesh',\n",
       " 'aadhav',\n",
       " 'aadhavan',\n",
       " 'aadhi',\n",
       " 'aadhira',\n",
       " 'aadhvik',\n",
       " 'aadhya',\n",
       " 'aadhyan',\n",
       " 'aadi',\n",
       " 'aadian',\n",
       " 'aadil',\n",
       " 'aadin',\n",
       " 'aadish',\n",
       " 'aadison',\n",
       " 'aadit',\n",
       " 'aadith',\n",
       " 'aadithya',\n",
       " 'aaditri',\n",
       " 'aaditya',\n",
       " 'aadiv',\n",
       " 'aadon',\n",
       " 'aadrian',\n",
       " 'aadrika',\n",
       " 'aadrit',\n",
       " 'aadvik',\n",
       " 'aadvika',\n",
       " 'aadya',\n",
       " 'aadyn',\n",
       " 'aafia',\n",
       " 'aafreen',\n",
       " 'aagam',\n",
       " 'aage',\n",
       " 'aagot',\n",
       " 'aahaan',\n",
       " 'aahan',\n",
       " 'aahana',\n",
       " 'aahil',\n",
       " 'aahir',\n",
       " 'aahliyah',\n",
       " 'aahna',\n",
       " 'aahron',\n",
       " 'aaidan',\n",
       " 'aaiden',\n",
       " 'aaidyn',\n",
       " 'aaila',\n",
       " 'aailiyah',\n",
       " 'aailyah',\n",
       " 'aaima',\n",
       " 'aaira',\n",
       " 'aairah',\n",
       " 'aaisha',\n",
       " 'aaishah',\n",
       " 'aaiyana',\n",
       " 'aaiza',\n",
       " 'aaja',\n",
       " 'aajah',\n",
       " 'aajaylah',\n",
       " 'aajon',\n",
       " 'aakanksha',\n",
       " 'aakarsh',\n",
       " 'aakash',\n",
       " 'aakeem',\n",
       " 'aakilah',\n",
       " 'aakira',\n",
       " 'aakiyah',\n",
       " 'aakriti',\n",
       " 'aala',\n",
       " 'aalaiya',\n",
       " 'aalaiyah',\n",
       " 'aalana',\n",
       " 'aalanah',\n",
       " 'aalani',\n",
       " 'aalap',\n",
       " 'aalaya',\n",
       " 'aalayah',\n",
       " 'aalayiah',\n",
       " 'aalayjah',\n",
       " 'aalayna',\n",
       " 'aalaysha',\n",
       " 'aalaysia',\n",
       " 'aalea',\n",
       " 'aaleah',\n",
       " 'aaleahya',\n",
       " 'aaleena',\n",
       " 'aaleeya',\n",
       " 'aaleeyah',\n",
       " 'aaleiah',\n",
       " 'aaleigha',\n",
       " 'aaleiyah',\n",
       " 'aalena',\n",
       " 'aalexis',\n",
       " 'aalexus',\n",
       " 'aaleya',\n",
       " 'aaleyah',\n",
       " 'aali',\n",
       " 'aalia',\n",
       " 'aaliah',\n",
       " 'aaliana',\n",
       " 'aalias',\n",
       " 'aaliayah',\n",
       " 'aaliayh',\n",
       " 'aalicia',\n",
       " 'aaliha',\n",
       " 'aalijah',\n",
       " 'aalim',\n",
       " 'aalimah',\n",
       " 'aalina',\n",
       " 'aalinah',\n",
       " 'aalisa',\n",
       " 'aalisha',\n",
       " 'aalivia',\n",
       " 'aaliya',\n",
       " 'aaliyaa',\n",
       " 'aaliyah',\n",
       " 'aaliyaha',\n",
       " 'aaliyahmarie',\n",
       " 'aaliyahrose',\n",
       " 'aaliyan',\n",
       " 'aaliyana',\n",
       " 'aaliyanna',\n",
       " 'aaliyha',\n",
       " 'aaliyiah',\n",
       " 'aalliyah',\n",
       " 'aallyah',\n",
       " 'aalok',\n",
       " 'aalon',\n",
       " 'aalya',\n",
       " 'aalyah',\n",
       " 'aalycia',\n",
       " 'aalyha',\n",
       " 'aalyia',\n",
       " 'aalyiah',\n",
       " 'aalyna',\n",
       " 'aalysia',\n",
       " 'aalyssa',\n",
       " 'aalyvia',\n",
       " 'aamanda',\n",
       " 'aamanee',\n",
       " 'aamani',\n",
       " 'aamar',\n",
       " 'aamari',\n",
       " 'aamarion',\n",
       " 'aamaya',\n",
       " 'aamber',\n",
       " 'aamena',\n",
       " 'aamer',\n",
       " 'aamia',\n",
       " 'aamil',\n",
       " 'aamilah',\n",
       " 'aamina',\n",
       " 'aaminah',\n",
       " 'aamir',\n",
       " 'aamira',\n",
       " 'aamirah',\n",
       " 'aamiya',\n",
       " 'aamiyah',\n",
       " 'aamna',\n",
       " 'aamoni',\n",
       " 'aamori',\n",
       " 'aamya',\n",
       " 'aamyah',\n",
       " 'aana',\n",
       " 'aanand',\n",
       " 'aanav',\n",
       " 'aanaya',\n",
       " 'aanchal',\n",
       " 'aania',\n",
       " 'aaniah',\n",
       " 'aanijah',\n",
       " 'aanika',\n",
       " 'aanisah',\n",
       " 'aaniya',\n",
       " 'aaniyah',\n",
       " 'aaniylah',\n",
       " 'aansh',\n",
       " 'aanshi',\n",
       " 'aanvi',\n",
       " 'aanya',\n",
       " 'aanyah',\n",
       " 'aanyla',\n",
       " 'aapri',\n",
       " 'aaqib',\n",
       " 'aaqil',\n",
       " 'aara',\n",
       " 'aarabella',\n",
       " 'aarabhi',\n",
       " 'aaradhana',\n",
       " 'aaradhy',\n",
       " 'aaradhya',\n",
       " 'aaraiz',\n",
       " 'aaralyn',\n",
       " 'aaralynn',\n",
       " 'aaran',\n",
       " 'aaraon',\n",
       " 'aaratrika',\n",
       " 'aarav',\n",
       " 'aaravi',\n",
       " 'aaraya',\n",
       " 'aaren',\n",
       " 'aareon',\n",
       " 'aareona',\n",
       " 'aari',\n",
       " 'aaria',\n",
       " 'aariah',\n",
       " 'aarian',\n",
       " 'aariana',\n",
       " 'aarianna',\n",
       " 'aarib',\n",
       " 'aaric',\n",
       " 'aarica',\n",
       " 'aarick',\n",
       " 'aarie',\n",
       " 'aariel',\n",
       " 'aarielle',\n",
       " 'aarien',\n",
       " 'aarik',\n",
       " 'aarika',\n",
       " 'aariketh',\n",
       " 'aarilyn',\n",
       " 'aarilynn',\n",
       " 'aarin',\n",
       " 'aarini',\n",
       " 'aarion',\n",
       " 'aariona',\n",
       " 'aarionna',\n",
       " 'aaris',\n",
       " 'aarish',\n",
       " 'aarit',\n",
       " 'aariv',\n",
       " 'aariya',\n",
       " 'aariyah',\n",
       " 'aariyan',\n",
       " 'aariyana',\n",
       " 'aariyanna',\n",
       " 'aariyona',\n",
       " 'aariyonna',\n",
       " 'aariz',\n",
       " 'aarjav',\n",
       " 'aarn',\n",
       " 'aarna',\n",
       " 'aarnav',\n",
       " 'aarnavi',\n",
       " 'aarne',\n",
       " 'aaro',\n",
       " 'aaroh',\n",
       " 'aarohan',\n",
       " 'aarohi',\n",
       " 'aarolyn',\n",
       " 'aaron',\n",
       " 'aarona',\n",
       " 'aaronae',\n",
       " 'aaronda',\n",
       " 'aaronette',\n",
       " 'aaronisha',\n",
       " 'aaronjacob',\n",
       " 'aaronjames',\n",
       " 'aaronjohn',\n",
       " 'aaronjoseph',\n",
       " 'aaronjosh',\n",
       " 'aaronjoshua',\n",
       " 'aaronlee',\n",
       " 'aaronmichael',\n",
       " 'aaronn',\n",
       " 'aaroosh',\n",
       " 'aarren',\n",
       " 'aarron',\n",
       " 'aarsh',\n",
       " 'aarshi',\n",
       " 'aarshiya',\n",
       " 'aarthi',\n",
       " 'aarti',\n",
       " 'aaruhi',\n",
       " 'aarush',\n",
       " 'aarushi',\n",
       " 'aarvi',\n",
       " 'aarvin',\n",
       " 'aarya',\n",
       " 'aaryah',\n",
       " 'aaryahi',\n",
       " 'aaryan',\n",
       " 'aaryana',\n",
       " 'aaryanna',\n",
       " 'aaryash',\n",
       " 'aaryav',\n",
       " 'aaryn',\n",
       " 'aaryon',\n",
       " 'aaryona',\n",
       " 'aarza',\n",
       " 'aaser',\n",
       " 'aasha',\n",
       " 'aashana',\n",
       " 'aashay',\n",
       " 'aashi',\n",
       " 'aashia',\n",
       " 'aashika',\n",
       " 'aashini',\n",
       " 'aashir',\n",
       " 'aashirya',\n",
       " 'aashish',\n",
       " 'aashita',\n",
       " 'aashiyana',\n",
       " 'aashka',\n",
       " 'aashman',\n",
       " 'aashna',\n",
       " 'aashni',\n",
       " 'aashray',\n",
       " 'aashrita',\n",
       " 'aashrith',\n",
       " 'aashritha',\n",
       " 'aashvi',\n",
       " 'aasia',\n",
       " 'aasim',\n",
       " 'aasin',\n",
       " 'aasir',\n",
       " 'aasiya',\n",
       " 'aasiyah',\n",
       " 'aason',\n",
       " 'aastha',\n",
       " 'aathan',\n",
       " 'aatif',\n",
       " 'aatish',\n",
       " 'aava',\n",
       " 'aavah',\n",
       " 'aavash',\n",
       " 'aaven',\n",
       " 'aavi',\n",
       " 'aavin',\n",
       " 'aavion',\n",
       " 'aavya',\n",
       " 'aavyan',\n",
       " 'aavyn',\n",
       " 'aaya',\n",
       " 'aayaan',\n",
       " 'aayah',\n",
       " 'aayam',\n",
       " 'aayan',\n",
       " 'aayana',\n",
       " 'aayanah',\n",
       " 'aayanna',\n",
       " 'aayansh',\n",
       " 'aayat',\n",
       " 'aaydan',\n",
       " 'aayden',\n",
       " 'aayla',\n",
       " 'aaylah',\n",
       " 'aayliah',\n",
       " 'aayra',\n",
       " 'aayu',\n",
       " 'aayush',\n",
       " 'aayusha',\n",
       " 'aayushi',\n",
       " 'aazan',\n",
       " 'aazim',\n",
       " 'aaziyah',\n",
       " 'ab',\n",
       " 'aba',\n",
       " 'abaan',\n",
       " 'abad',\n",
       " 'abagael',\n",
       " 'abagail',\n",
       " 'abagaile',\n",
       " 'abagale',\n",
       " 'abagayle',\n",
       " 'abaigael',\n",
       " 'abaigail',\n",
       " 'abaigeal',\n",
       " 'aban',\n",
       " 'abanoub',\n",
       " 'abas',\n",
       " 'abasi',\n",
       " 'abass',\n",
       " 'abayomi',\n",
       " 'abb',\n",
       " 'abba',\n",
       " 'abbaas',\n",
       " 'abbagail',\n",
       " 'abbagale',\n",
       " 'abbagayle',\n",
       " 'abbas',\n",
       " 'abbe',\n",
       " 'abbee',\n",
       " 'abbegail',\n",
       " 'abbegale',\n",
       " 'abbegayle',\n",
       " 'abbey',\n",
       " 'abbeygail',\n",
       " 'abbeygale',\n",
       " 'abbi',\n",
       " 'abbie',\n",
       " 'abbiegail',\n",
       " 'abbiegale',\n",
       " 'abbiegayle',\n",
       " 'abbigael',\n",
       " 'abbigail',\n",
       " 'abbigaile',\n",
       " 'abbigal',\n",
       " 'abbigale',\n",
       " 'abbigayl',\n",
       " 'abbigayle',\n",
       " 'abbilyn',\n",
       " 'abbot',\n",
       " 'abbott',\n",
       " 'abbra',\n",
       " 'abbriella',\n",
       " 'abbrielle',\n",
       " 'abby',\n",
       " 'abbye',\n",
       " 'abbygael',\n",
       " 'abbygail',\n",
       " 'abbygaile',\n",
       " 'abbygale',\n",
       " 'abbygayl',\n",
       " 'abbygayle',\n",
       " 'abbylynn',\n",
       " 'abcde',\n",
       " 'abd',\n",
       " 'abdala',\n",
       " 'abdalah',\n",
       " 'abdalla',\n",
       " 'abdallah',\n",
       " 'abdalrahman',\n",
       " 'abdalrhman',\n",
       " 'abdel',\n",
       " 'abdelaziz',\n",
       " 'abdelhadi',\n",
       " 'abdelkareem',\n",
       " 'abdelkarim',\n",
       " 'abdellah',\n",
       " 'abdelrahman',\n",
       " 'abdelrhman',\n",
       " 'abderrahman',\n",
       " 'abdi',\n",
       " 'abdias',\n",
       " 'abdiasis',\n",
       " 'abdiaziz',\n",
       " 'abdiel',\n",
       " 'abdifatah',\n",
       " 'abdihafid',\n",
       " 'abdihakim',\n",
       " 'abdihamid',\n",
       " 'abdikadir',\n",
       " 'abdikarim',\n",
       " 'abdikhaliq',\n",
       " 'abdilahi',\n",
       " 'abdimalik',\n",
       " 'abdinajib',\n",
       " 'abdinasir',\n",
       " 'abdiqani',\n",
       " 'abdirahim',\n",
       " 'abdirahin',\n",
       " 'abdirahman',\n",
       " 'abdirashid',\n",
       " 'abdirisaq',\n",
       " 'abdirizak',\n",
       " 'abdisalam',\n",
       " 'abdisalan',\n",
       " 'abdisamad',\n",
       " 'abdishakur',\n",
       " 'abdiwahab',\n",
       " 'abdiwali',\n",
       " 'abdo',\n",
       " 'abdon',\n",
       " 'abdou',\n",
       " 'abdoul',\n",
       " 'abdoulaye',\n",
       " 'abdoulaziz',\n",
       " 'abdoulie',\n",
       " 'abdourahman',\n",
       " 'abdourahmane',\n",
       " 'abdrahman',\n",
       " 'abdrew',\n",
       " 'abdu',\n",
       " 'abdual',\n",
       " 'abduallah',\n",
       " 'abduel',\n",
       " 'abdul',\n",
       " 'abdula',\n",
       " 'abdulah',\n",
       " 'abdulahad',\n",
       " 'abdulahi',\n",
       " 'abdulai',\n",
       " 'abdulaye',\n",
       " 'abdulazeem',\n",
       " 'abdulazeez',\n",
       " 'abdulaziz',\n",
       " 'abdulbari',\n",
       " 'abdulbasit',\n",
       " 'abdule',\n",
       " 'abdulelah',\n",
       " 'abdulhadi',\n",
       " 'abdulhakeem',\n",
       " 'abdulhakim',\n",
       " 'abdulhalim',\n",
       " 'abdulhameed',\n",
       " 'abdulhamid',\n",
       " 'abduljabbar',\n",
       " 'abduljaleel',\n",
       " 'abduljalil',\n",
       " 'abdulkadir',\n",
       " 'abdulkareem',\n",
       " 'abdulkarim',\n",
       " 'abdulkhaliq',\n",
       " 'abdull',\n",
       " 'abdulla',\n",
       " 'abdullah',\n",
       " 'abdullahi',\n",
       " 'abdullatif',\n",
       " 'abdulloh',\n",
       " 'abdulmajeed',\n",
       " 'abdulmajid',\n",
       " 'abdulmalek',\n",
       " 'abdulmalik',\n",
       " 'abdulmohsen',\n",
       " 'abdulnasir',\n",
       " 'abdulqadir',\n",
       " 'abdulraheem',\n",
       " 'abdulrahim',\n",
       " 'abdulrahman',\n",
       " 'abdulrazaq',\n",
       " 'abdulrehman',\n",
       " 'abdulrhman',\n",
       " 'abdulsalam',\n",
       " 'abdulsamad',\n",
       " 'abdulwadud',\n",
       " 'abdulwahab',\n",
       " 'abdulwahid',\n",
       " 'abdur',\n",
       " 'abdurahman',\n",
       " 'abdurahmon',\n",
       " 'abdurraheem',\n",
       " 'abdurrahim',\n",
       " 'abdurrahmaan',\n",
       " 'abdurrahman',\n",
       " 'abdurrehman',\n",
       " 'abdussamad',\n",
       " 'abe',\n",
       " 'abeal',\n",
       " 'abed',\n",
       " 'abedallah',\n",
       " 'abedalrahman',\n",
       " 'abednego',\n",
       " 'abeeha',\n",
       " 'abeer',\n",
       " 'abeera',\n",
       " 'abegail',\n",
       " 'abegale',\n",
       " 'abegayle',\n",
       " 'abel',\n",
       " 'abela',\n",
       " 'abelardo',\n",
       " 'abelina',\n",
       " 'abelino',\n",
       " 'abell',\n",
       " 'abella',\n",
       " 'abem',\n",
       " 'aben',\n",
       " 'abena',\n",
       " 'abenezer',\n",
       " 'abeni',\n",
       " 'aber',\n",
       " 'aberdeen',\n",
       " 'aberham',\n",
       " 'abernathy',\n",
       " 'abert',\n",
       " 'abery',\n",
       " 'abey',\n",
       " 'abgail',\n",
       " 'abha',\n",
       " 'abhay',\n",
       " 'abheek',\n",
       " 'abhi',\n",
       " 'abhigna',\n",
       " 'abhijay',\n",
       " 'abhijeet',\n",
       " 'abhijit',\n",
       " 'abhijot',\n",
       " 'abhik',\n",
       " 'abhilash',\n",
       " 'abhimanyu',\n",
       " 'abhinav',\n",
       " 'abhinay',\n",
       " 'abhinaya',\n",
       " 'abhiraam',\n",
       " 'abhiraj',\n",
       " 'abhiram',\n",
       " 'abhirup',\n",
       " 'abhishek',\n",
       " 'abhyuday',\n",
       " 'abi',\n",
       " 'abia',\n",
       " 'abiageal',\n",
       " 'abiah',\n",
       " 'abian',\n",
       " 'abianna',\n",
       " 'abibail',\n",
       " 'abid',\n",
       " 'abida',\n",
       " 'abidah',\n",
       " 'abidan',\n",
       " 'abie',\n",
       " 'abiegail',\n",
       " 'abiel',\n",
       " 'abiela',\n",
       " 'abiella',\n",
       " 'abiezer',\n",
       " 'abigael',\n",
       " 'abigaelle',\n",
       " 'abigahil',\n",
       " 'abigai',\n",
       " 'abigail',\n",
       " 'abigaile',\n",
       " 'abigailgrace',\n",
       " 'abigaille',\n",
       " 'abigailmarie',\n",
       " 'abigailrose',\n",
       " 'abigal',\n",
       " 'abigale',\n",
       " 'abigayil',\n",
       " 'abigayl',\n",
       " 'abigayle',\n",
       " 'abigeal',\n",
       " 'abigel',\n",
       " 'abigial',\n",
       " 'abiha',\n",
       " 'abihail',\n",
       " 'abijah',\n",
       " 'abilene',\n",
       " 'abilgail',\n",
       " 'abilio',\n",
       " 'abilyn',\n",
       " 'abilynn',\n",
       " 'abimael',\n",
       " 'abimbola',\n",
       " 'abimelec',\n",
       " 'abin',\n",
       " 'abinadab',\n",
       " 'abinadi',\n",
       " 'abinav',\n",
       " 'abinaya',\n",
       " 'abiodun',\n",
       " 'abiola',\n",
       " 'abiona',\n",
       " 'abir',\n",
       " 'abira',\n",
       " 'abiram',\n",
       " 'abirami',\n",
       " 'abisag',\n",
       " 'abisai',\n",
       " 'abish',\n",
       " 'abisha',\n",
       " 'abishai',\n",
       " 'abishek',\n",
       " 'abisola',\n",
       " 'abiud',\n",
       " 'abiyah',\n",
       " 'abla',\n",
       " 'able',\n",
       " 'abnel',\n",
       " 'abner',\n",
       " 'abney',\n",
       " 'abony',\n",
       " 'abou',\n",
       " 'aboubacar',\n",
       " 'aboubakar',\n",
       " 'abra',\n",
       " 'abraam',\n",
       " 'abraar',\n",
       " 'abrah',\n",
       " 'abraham',\n",
       " 'abrahan',\n",
       " 'abraheem',\n",
       " 'abrahem',\n",
       " 'abrahim',\n",
       " 'abrahm',\n",
       " 'abram',\n",
       " 'abran',\n",
       " 'abranda',\n",
       " 'abrar',\n",
       " 'abraxas',\n",
       " 'abrea',\n",
       " 'abreana',\n",
       " 'abreanna',\n",
       " 'abree',\n",
       " 'abreia',\n",
       " 'abren',\n",
       " 'abreona',\n",
       " 'abreonna',\n",
       " 'abrey',\n",
       " 'abreya',\n",
       " 'abrham',\n",
       " 'abri',\n",
       " 'abria',\n",
       " 'abriah',\n",
       " 'abrial',\n",
       " 'abriam',\n",
       " 'abrian',\n",
       " 'abriana',\n",
       " 'abrianna',\n",
       " 'abriannah',\n",
       " 'abrianne',\n",
       " 'abrie',\n",
       " 'abriel',\n",
       " 'abriela',\n",
       " 'abriele',\n",
       " 'abriella',\n",
       " 'abrielle',\n",
       " 'abrien',\n",
       " 'abrienne',\n",
       " 'abrigail',\n",
       " 'abrihet',\n",
       " 'abril',\n",
       " 'abrille',\n",
       " 'abrina',\n",
       " 'abrion',\n",
       " 'abriona',\n",
       " 'abrionna',\n",
       " 'abrish',\n",
       " 'abriya',\n",
       " 'abriyah',\n",
       " 'abriyana',\n",
       " 'abrom',\n",
       " 'abron',\n",
       " 'abrum',\n",
       " 'abry',\n",
       " 'abryana',\n",
       " 'abryanna',\n",
       " 'abryella',\n",
       " 'abryelle',\n",
       " 'abryl',\n",
       " 'absalat',\n",
       " 'absalom',\n",
       " 'absalon',\n",
       " 'abshir',\n",
       " 'absidy',\n",
       " 'abtin',\n",
       " 'abu',\n",
       " 'abubacar',\n",
       " 'abubacarr',\n",
       " 'abubakar',\n",
       " 'abubakarr',\n",
       " 'abubakary',\n",
       " 'abubaker',\n",
       " 'abubakr',\n",
       " 'abuk',\n",
       " 'abukar',\n",
       " 'abundio',\n",
       " 'aby',\n",
       " 'abyade',\n",
       " 'abyan',\n",
       " 'abygael',\n",
       " 'abygail',\n",
       " 'abygaile',\n",
       " 'abygale',\n",
       " 'abygayle',\n",
       " 'abyssinia',\n",
       " 'ac',\n",
       " 'acacia',\n",
       " 'acacius',\n",
       " 'acadia',\n",
       " 'acamas',\n",
       " 'acari',\n",
       " 'acasia',\n",
       " 'accacia',\n",
       " 'accalia',\n",
       " 'access',\n",
       " 'accie',\n",
       " 'accursio',\n",
       " 'ace',\n",
       " 'acea',\n",
       " 'acein',\n",
       " 'acel',\n",
       " 'acelin',\n",
       " 'acelino',\n",
       " 'acelyn',\n",
       " 'acelynn',\n",
       " 'acen',\n",
       " 'acencion',\n",
       " 'aceon',\n",
       " 'acer',\n",
       " 'aceson',\n",
       " 'acesyn',\n",
       " 'aceton',\n",
       " 'acey',\n",
       " 'aceyn',\n",
       " 'achai',\n",
       " 'achaia',\n",
       " 'achan',\n",
       " 'achante',\n",
       " 'achanti',\n",
       " 'achary',\n",
       " 'achazia',\n",
       " 'achel',\n",
       " 'acheron',\n",
       " 'achille',\n",
       " 'achilles',\n",
       " 'achilleus',\n",
       " 'achillies',\n",
       " 'achintya',\n",
       " 'achol',\n",
       " 'achraf',\n",
       " 'achsa',\n",
       " 'achsah',\n",
       " 'achyut',\n",
       " 'achyuth',\n",
       " 'acia',\n",
       " 'aciano',\n",
       " 'acie',\n",
       " 'aciel',\n",
       " 'acil',\n",
       " 'acire',\n",
       " 'ackeem',\n",
       " 'ackley',\n",
       " 'acob',\n",
       " 'acquanetta',\n",
       " 'acquanette',\n",
       " 'acsa',\n",
       " 'acura',\n",
       " 'acxel',\n",
       " 'acy',\n",
       " 'ad',\n",
       " 'ada',\n",
       " 'adabel',\n",
       " 'adabella',\n",
       " 'adabelle',\n",
       " 'adacia',\n",
       " 'adae',\n",
       " 'adael',\n",
       " 'adaelyn',\n",
       " 'adaeze',\n",
       " 'adagio',\n",
       " 'adah',\n",
       " 'adahir',\n",
       " 'adahli',\n",
       " 'adahlia',\n",
       " 'adahy',\n",
       " 'adai',\n",
       " 'adaia',\n",
       " 'adaiah',\n",
       " 'adaija',\n",
       " 'adaijah',\n",
       " 'adailyn',\n",
       " 'adain',\n",
       " 'adair',\n",
       " 'adaira',\n",
       " 'adaire',\n",
       " 'adairis',\n",
       " 'adaisha',\n",
       " 'adaisia',\n",
       " 'adaja',\n",
       " 'adajah',\n",
       " 'adaku',\n",
       " 'adal',\n",
       " 'adala',\n",
       " 'adalade',\n",
       " 'adalae',\n",
       " 'adalai',\n",
       " 'adalaide',\n",
       " 'adalay',\n",
       " 'adalaya',\n",
       " 'adalayde',\n",
       " 'adalbert',\n",
       " 'adalberto',\n",
       " 'adale',\n",
       " 'adalea',\n",
       " 'adaleah',\n",
       " 'adalee',\n",
       " 'adaleen',\n",
       " 'adaleena',\n",
       " 'adalei',\n",
       " 'adaleia',\n",
       " 'adaleigh',\n",
       " 'adaleine',\n",
       " 'adalen',\n",
       " 'adalena',\n",
       " 'adalene',\n",
       " 'adaley',\n",
       " 'adaleya',\n",
       " 'adaleyza',\n",
       " 'adalhi',\n",
       " 'adali',\n",
       " 'adalia',\n",
       " 'adaliah',\n",
       " 'adalicia',\n",
       " 'adalid',\n",
       " 'adalida',\n",
       " 'adalie',\n",
       " 'adaliene',\n",
       " 'adalin',\n",
       " 'adalina',\n",
       " 'adalind',\n",
       " 'adalinda',\n",
       " 'adaline',\n",
       " 'adalinn',\n",
       " 'adalinne',\n",
       " 'adalis',\n",
       " 'adalisa',\n",
       " 'adalise',\n",
       " 'adalisse',\n",
       " 'adalius',\n",
       " 'adaliyah',\n",
       " 'adaliz',\n",
       " 'adalize',\n",
       " 'adallyn',\n",
       " 'adaly',\n",
       " 'adalya',\n",
       " 'adalye',\n",
       " 'adalyn',\n",
       " 'adalyna',\n",
       " 'adalynd',\n",
       " 'adalyne',\n",
       " 'adalynn',\n",
       " 'adalynne',\n",
       " 'adalys',\n",
       " 'adalyse',\n",
       " 'adam',\n",
       " 'adama',\n",
       " 'adamae',\n",
       " 'adamari',\n",
       " 'adamarie',\n",
       " 'adamaris',\n",
       " 'adamariz',\n",
       " 'adamary',\n",
       " 'adamarys',\n",
       " 'adamina',\n",
       " 'adamm',\n",
       " 'adamma',\n",
       " 'adammichael',\n",
       " 'adamo',\n",
       " 'adams',\n",
       " 'adan',\n",
       " 'adana',\n",
       " 'adaneli',\n",
       " 'adanelly',\n",
       " 'adanely',\n",
       " 'adanna',\n",
       " 'adannaya',\n",
       " 'adante',\n",
       " 'adanya',\n",
       " 'adaobi',\n",
       " 'adaora',\n",
       " 'adar',\n",
       " 'adara',\n",
       " 'adarah',\n",
       " 'adari',\n",
       " 'adaria',\n",
       " 'adarian',\n",
       " 'adarien',\n",
       " 'adarion',\n",
       " 'adarious',\n",
       " 'adarius',\n",
       " 'adarrius',\n",
       " 'adarryl',\n",
       " 'adarryll',\n",
       " 'adarsh',\n",
       " 'adaryl',\n",
       " 'adaryll',\n",
       " 'adasha',\n",
       " 'adashia',\n",
       " 'adasia',\n",
       " 'adason',\n",
       " 'adassa',\n",
       " 'adasyn',\n",
       " 'adaugo',\n",
       " 'adaure',\n",
       " 'adavia',\n",
       " 'adavion',\n",
       " 'adaya',\n",
       " 'adayah',\n",
       " 'adayla',\n",
       " 'adaysha',\n",
       " 'adayshia',\n",
       " 'adaysia',\n",
       " 'adbeel',\n",
       " 'adbiel',\n",
       " 'add',\n",
       " 'adda',\n",
       " 'addah',\n",
       " 'addai',\n",
       " 'addalee',\n",
       " 'addaleigh',\n",
       " 'addaley',\n",
       " 'addalie',\n",
       " 'addalin',\n",
       " 'addalina',\n",
       " 'addaline',\n",
       " 'addalyn',\n",
       " 'addalyne',\n",
       " 'addalynn',\n",
       " 'addalynne',\n",
       " 'addam',\n",
       " 'addan',\n",
       " ...]"
      ]
     },
     "execution_count": 13,
     "metadata": {},
     "output_type": "execute_result"
    }
   ],
   "source": [
    "cv.get_feature_names()"
   ]
  },
  {
   "cell_type": "code",
   "execution_count": 14,
   "metadata": {},
   "outputs": [],
   "source": [
    "# train test splitting\n",
    "# X = we got after transfroming the feature using CountVectorizer\n",
    "# y = df_names.Gender\n",
    "from sklearn.model_selection import train_test_split\n",
    "X_train, X_test, y_train, y_test = train_test_split(X,df_names.Gender, test_size=0.33, random_state=42)"
   ]
  },
  {
   "cell_type": "code",
   "execution_count": 15,
   "metadata": {},
   "outputs": [
    {
     "data": {
      "text/plain": [
       "0.6328645683854714"
      ]
     },
     "execution_count": 15,
     "metadata": {},
     "output_type": "execute_result"
    }
   ],
   "source": [
    "# Naive Bayes Classifier\n",
    "from sklearn.naive_bayes import MultinomialNB\n",
    "clf = MultinomialNB()\n",
    "clf.fit(X_train,y_train)\n",
    "clf.score(X_test,y_test)"
   ]
  },
  {
   "cell_type": "code",
   "execution_count": 16,
   "metadata": {},
   "outputs": [
    {
     "name": "stdout",
     "output_type": "stream",
     "text": [
      "Test Accuracy of our Model 63.2865 %\n"
     ]
    }
   ],
   "source": [
    "# Test Accuracy of the Model\n",
    "print(\"Test Accuracy of our Model\",round(clf.score(X_test,y_test)*100,4),'%')"
   ]
  },
  {
   "cell_type": "code",
   "execution_count": 17,
   "metadata": {},
   "outputs": [
    {
     "name": "stdout",
     "output_type": "stream",
     "text": [
      "Train Accuracy of our Model 100.0 %\n"
     ]
    }
   ],
   "source": [
    "# Train Accuracy of the Model\n",
    "print(\"Train Accuracy of our Model\",round(clf.score(X_train,y_train)*100,4),'%')"
   ]
  },
  {
   "cell_type": "markdown",
   "metadata": {},
   "source": [
    "### Clearly it is seen that our model is overfitted"
   ]
  },
  {
   "cell_type": "markdown",
   "metadata": {},
   "source": [
    "## Sample Prediction"
   ]
  },
  {
   "cell_type": "code",
   "execution_count": 18,
   "metadata": {},
   "outputs": [],
   "source": [
    "sample_name = ['Misty','Miroslav']\n",
    "vect = cv.transform(sample_name).toarray()"
   ]
  },
  {
   "cell_type": "code",
   "execution_count": 19,
   "metadata": {},
   "outputs": [
    {
     "data": {
      "text/plain": [
       "array([0, 1], dtype=int64)"
      ]
     },
     "execution_count": 19,
     "metadata": {},
     "output_type": "execute_result"
    }
   ],
   "source": [
    "# Female = 0, Male = 1\n",
    "clf.predict(vect)"
   ]
  },
  {
   "cell_type": "code",
   "execution_count": 20,
   "metadata": {},
   "outputs": [],
   "source": [
    "# lets define a function\n",
    "def genderpredictor(a):\n",
    "    test_name = [a]\n",
    "    vector = cv.transform(test_name).toarray()\n",
    "    if clf.predict(vector) == 0:\n",
    "        print('Female')\n",
    "    else:\n",
    "        print('Male')"
   ]
  },
  {
   "cell_type": "code",
   "execution_count": 21,
   "metadata": {},
   "outputs": [
    {
     "name": "stdout",
     "output_type": "stream",
     "text": [
      "Female\n"
     ]
    }
   ],
   "source": [
    "genderpredictor('Martha')"
   ]
  },
  {
   "cell_type": "code",
   "execution_count": 22,
   "metadata": {},
   "outputs": [
    {
     "name": "stdout",
     "output_type": "stream",
     "text": [
      "Female\n",
      "Male\n",
      "Female\n",
      "Female\n",
      "Female\n",
      "Male\n",
      "Female\n",
      "Female\n",
      "Male\n",
      "Male\n"
     ]
    }
   ],
   "source": [
    "namelist = ['Mary','Mark','Natasha','Masha','Ana','Messi','Toshi','Raheem','Fitzgerald','Luke']\n",
    "for i in namelist:\n",
    "    genderpredictor(i)"
   ]
  },
  {
   "cell_type": "markdown",
   "metadata": {},
   "source": [
    "Non English Names like Raheem and Toshi are wrongly classified"
   ]
  },
  {
   "cell_type": "markdown",
   "metadata": {},
   "source": [
    "### Using LSTM "
   ]
  },
  {
   "cell_type": "code",
   "execution_count": 23,
   "metadata": {},
   "outputs": [],
   "source": [
    "# import keras libraries\n",
    "from tensorflow.keras.preprocessing.text import Tokenizer,one_hot\n",
    "from tensorflow.keras.preprocessing.sequence import pad_sequences\n",
    "from tensorflow.keras.utils import to_categorical\n",
    "from tensorflow.keras.models import Sequential\n",
    "from tensorflow.keras.layers import Dense,LSTM,Embedding,Dropout"
   ]
  },
  {
   "cell_type": "code",
   "execution_count": 24,
   "metadata": {},
   "outputs": [],
   "source": [
    "#Converting the words into sequence of vectors\n",
    "tokenizer = Tokenizer(char_level=True)\n",
    "tokenizer.fit_on_texts(df_names.Names)\n",
    "sequence_of_int = tokenizer.texts_to_sequences(df_names.Names)"
   ]
  },
  {
   "cell_type": "code",
   "execution_count": 25,
   "metadata": {},
   "outputs": [],
   "source": [
    "#padding the tokenized word for equal lenght\n",
    "padsequences=pad_sequences(sequence_of_int,maxlen=15,padding='post')"
   ]
  },
  {
   "cell_type": "code",
   "execution_count": 26,
   "metadata": {},
   "outputs": [
    {
     "data": {
      "text/plain": [
       "(95025, 15)"
      ]
     },
     "execution_count": 26,
     "metadata": {},
     "output_type": "execute_result"
    }
   ],
   "source": [
    "padsequences.shape"
   ]
  },
  {
   "cell_type": "code",
   "execution_count": null,
   "metadata": {},
   "outputs": [],
   "source": [
    "#converting our labels into categorical\n",
    "labels=to_categorical(df_names.Gender)"
   ]
  },
  {
   "cell_type": "code",
   "execution_count": 28,
   "metadata": {},
   "outputs": [],
   "source": [
    "from sklearn.model_selection import train_test_split\n",
    "feature_train,feature_test,label_train,label_test=train_test_split(padsequences,labels,test_size=0.1,random_state=42)"
   ]
  },
  {
   "cell_type": "code",
   "execution_count": 29,
   "metadata": {},
   "outputs": [
    {
     "name": "stdout",
     "output_type": "stream",
     "text": [
      "Model: \"sequential\"\n",
      "_________________________________________________________________\n",
      "Layer (type)                 Output Shape              Param #   \n",
      "=================================================================\n",
      "embedding (Embedding)        (None, 15, 64)            1728      \n",
      "_________________________________________________________________\n",
      "lstm (LSTM)                  (None, 15, 2048)          17309696  \n",
      "_________________________________________________________________\n",
      "lstm_1 (LSTM)                (None, 256)               2360320   \n",
      "_________________________________________________________________\n",
      "dropout (Dropout)            (None, 256)               0         \n",
      "_________________________________________________________________\n",
      "dense (Dense)                (None, 2)                 514       \n",
      "=================================================================\n",
      "Total params: 19,672,258\n",
      "Trainable params: 19,672,258\n",
      "Non-trainable params: 0\n",
      "_________________________________________________________________\n"
     ]
    }
   ],
   "source": [
    "#define a Sequential Model\n",
    "model=Sequential()\n",
    "\n",
    "#adding an Embedding layer before passing it to LSTM\n",
    "model.add(Embedding(27,64,input_length=15))\n",
    "\n",
    "#1st LSTM layer which returns a sequence of vectors of dimension 2048\n",
    "model.add(LSTM(2048,return_sequences=True))\n",
    "\n",
    "#2nd LSTM layer return a single vector of dimension 256\n",
    "model.add(LSTM(256,return_sequences=False))\n",
    "\n",
    "#adding a dropout layer to avoid overfitting\n",
    "model.add(Dropout(0.2))\n",
    "\n",
    "#Dense layer with 2 inputs with sigmoid activation functiond\n",
    "model.add(Dense(2,activation='sigmoid'))\n",
    "\n",
    "model.compile(loss='binary_crossentropy',optimizer='adam',metrics=['accuracy'])\n",
    "model.summary()"
   ]
  },
  {
   "cell_type": "code",
   "execution_count": 30,
   "metadata": {},
   "outputs": [
    {
     "name": "stdout",
     "output_type": "stream",
     "text": [
      "Train on 85522 samples, validate on 9503 samples\n",
      "Epoch 1/10\n",
      "85522/85522 [==============================] - 916s 11ms/sample - loss: 0.6175 - accuracy: 0.6663 - val_loss: 0.5398 - val_accuracy: 0.7296\n",
      "Epoch 2/10\n",
      "85522/85522 [==============================] - 959s 11ms/sample - loss: 0.5117 - accuracy: 0.7553 - val_loss: 0.4637 - val_accuracy: 0.7869\n",
      "Epoch 3/10\n",
      "85522/85522 [==============================] - 955s 11ms/sample - loss: 0.4676 - accuracy: 0.7847 - val_loss: 0.4499 - val_accuracy: 0.7933\n",
      "Epoch 4/10\n",
      "85522/85522 [==============================] - 900s 11ms/sample - loss: 0.4501 - accuracy: 0.7947 - val_loss: 0.4434 - val_accuracy: 0.7912\n",
      "Epoch 5/10\n",
      "85522/85522 [==============================] - 899s 11ms/sample - loss: 0.4216 - accuracy: 0.8107 - val_loss: 0.4119 - val_accuracy: 0.8145\n",
      "Epoch 6/10\n",
      "85522/85522 [==============================] - 901s 11ms/sample - loss: 0.3978 - accuracy: 0.8245 - val_loss: 0.3747 - val_accuracy: 0.8302\n",
      "Epoch 7/10\n",
      "85522/85522 [==============================] - 905s 11ms/sample - loss: 0.3763 - accuracy: 0.8349 - val_loss: 0.3574 - val_accuracy: 0.8394\n",
      "Epoch 8/10\n",
      "85522/85522 [==============================] - 949s 11ms/sample - loss: 0.3646 - accuracy: 0.8406 - val_loss: 0.3539 - val_accuracy: 0.8415\n",
      "Epoch 9/10\n",
      "85522/85522 [==============================] - 964s 11ms/sample - loss: 0.3613 - accuracy: 0.8418 - val_loss: 0.3503 - val_accuracy: 0.8448\n",
      "Epoch 10/10\n",
      "85522/85522 [==============================] - 1076s 13ms/sample - loss: 0.3542 - accuracy: 0.8457 - val_loss: 0.3465 - val_accuracy: 0.8519\n"
     ]
    },
    {
     "data": {
      "text/plain": [
       "<tensorflow.python.keras.callbacks.History at 0x1e931fa56c8>"
      ]
     },
     "execution_count": 30,
     "metadata": {},
     "output_type": "execute_result"
    }
   ],
   "source": [
    "model.fit(feature_train,label_train,epochs=10,validation_data=(feature_test,label_test),batch_size=3000)"
   ]
  },
  {
   "cell_type": "code",
   "execution_count": 38,
   "metadata": {},
   "outputs": [
    {
     "data": {
      "text/plain": [
       "array([[0.5012706 , 0.4987274 ],\n",
       "       [0.86967885, 0.12935294],\n",
       "       [0.938498  , 0.06107036],\n",
       "       ...,\n",
       "       [0.96735203, 0.03205542],\n",
       "       [0.10715456, 0.8920172 ],\n",
       "       [0.962909  , 0.03655704]], dtype=float32)"
      ]
     },
     "execution_count": 38,
     "metadata": {},
     "output_type": "execute_result"
    }
   ],
   "source": [
    "#predition using test data\n",
    "import sklearn.metrics as m\n",
    "label_pred=model.predict(feature_test)\n",
    "label_pred"
   ]
  },
  {
   "cell_type": "code",
   "execution_count": 39,
   "metadata": {},
   "outputs": [],
   "source": [
    "label_pred=np.argmax(label_pred,axis=1)"
   ]
  },
  {
   "cell_type": "code",
   "execution_count": 40,
   "metadata": {},
   "outputs": [
    {
     "data": {
      "text/plain": [
       "array([0, 0, 0, ..., 0, 1, 0], dtype=int64)"
      ]
     },
     "execution_count": 40,
     "metadata": {},
     "output_type": "execute_result"
    }
   ],
   "source": [
    "label_pred"
   ]
  },
  {
   "cell_type": "code",
   "execution_count": 41,
   "metadata": {},
   "outputs": [],
   "source": [
    "l_test=np.argmax(label_test,axis=1)"
   ]
  },
  {
   "cell_type": "code",
   "execution_count": 42,
   "metadata": {},
   "outputs": [
    {
     "data": {
      "text/plain": [
       "0.8520467220877618"
      ]
     },
     "execution_count": 42,
     "metadata": {},
     "output_type": "execute_result"
    }
   ],
   "source": [
    "m.accuracy_score(l_test,label_pred)"
   ]
  },
  {
   "cell_type": "code",
   "execution_count": 43,
   "metadata": {},
   "outputs": [
    {
     "name": "stdout",
     "output_type": "stream",
     "text": [
      "              precision    recall  f1-score   support\n",
      "\n",
      "           0       0.86      0.91      0.89      5997\n",
      "           1       0.83      0.75      0.79      3506\n",
      "\n",
      "    accuracy                           0.85      9503\n",
      "   macro avg       0.85      0.83      0.84      9503\n",
      "weighted avg       0.85      0.85      0.85      9503\n",
      "\n"
     ]
    }
   ],
   "source": [
    "#Classification Report Precision,Recall,F1score\n",
    "print(m.classification_report(l_test,label_pred))"
   ]
  },
  {
   "cell_type": "code",
   "execution_count": 44,
   "metadata": {},
   "outputs": [
    {
     "data": {
      "text/plain": [
       "array([[5462,  535],\n",
       "       [ 871, 2635]], dtype=int64)"
      ]
     },
     "execution_count": 44,
     "metadata": {},
     "output_type": "execute_result"
    }
   ],
   "source": [
    "#Confusion Matrix\n",
    "m.confusion_matrix(l_test,label_pred)"
   ]
  },
  {
   "cell_type": "code",
   "execution_count": 46,
   "metadata": {},
   "outputs": [],
   "source": [
    "# Pickle the model for reuse\n",
    "import pickle\n",
    "pickle.dump(tokenizer,open('tokenizer.pkl','wb+'),protocol=pickle.HIGHEST_PROTOCOL)"
   ]
  },
  {
   "cell_type": "code",
   "execution_count": 47,
   "metadata": {},
   "outputs": [],
   "source": [
    "tokenizer=pickle.load(open('tokenizer.pkl','rb+'))"
   ]
  },
  {
   "cell_type": "code",
   "execution_count": 48,
   "metadata": {},
   "outputs": [
    {
     "data": {
      "text/plain": [
       "{1: 'a',\n",
       " 2: 'e',\n",
       " 3: 'n',\n",
       " 4: 'i',\n",
       " 5: 'r',\n",
       " 6: 'l',\n",
       " 7: 's',\n",
       " 8: 'h',\n",
       " 9: 'y',\n",
       " 10: 'o',\n",
       " 11: 't',\n",
       " 12: 'd',\n",
       " 13: 'm',\n",
       " 14: 'k',\n",
       " 15: 'c',\n",
       " 16: 'u',\n",
       " 17: 'j',\n",
       " 18: 'b',\n",
       " 19: 'v',\n",
       " 20: 'g',\n",
       " 21: 'z',\n",
       " 22: 'w',\n",
       " 23: 'p',\n",
       " 24: 'f',\n",
       " 25: 'q',\n",
       " 26: 'x'}"
      ]
     },
     "execution_count": 48,
     "metadata": {},
     "output_type": "execute_result"
    }
   ],
   "source": [
    "tokenizer.index_word"
   ]
  },
  {
   "cell_type": "code",
   "execution_count": 49,
   "metadata": {},
   "outputs": [],
   "source": [
    "def input(n):\n",
    "  q=tokenizer.texts_to_sequences(n)\n",
    "  q=[i[0] for i in q]\n",
    "  q1=[]\n",
    "  q1.append(q)\n",
    "  s=pad_sequences(q1,maxlen=15,padding='post')\n",
    "  return s"
   ]
  },
  {
   "cell_type": "code",
   "execution_count": 52,
   "metadata": {},
   "outputs": [
    {
     "data": {
      "text/plain": [
       "[[19], [4], [7], [8], [1], [6]]"
      ]
     },
     "execution_count": 52,
     "metadata": {},
     "output_type": "execute_result"
    }
   ],
   "source": [
    "tokenizer.texts_to_sequences('vishal')"
   ]
  },
  {
   "cell_type": "code",
   "execution_count": 51,
   "metadata": {},
   "outputs": [],
   "source": [
    "def pred(n):\n",
    "  w=model.predict(input(n))\n",
    "  w=np.argmax(w,axis=1)\n",
    "  return w[0]"
   ]
  },
  {
   "cell_type": "code",
   "execution_count": 53,
   "metadata": {},
   "outputs": [
    {
     "data": {
      "text/plain": [
       "1"
      ]
     },
     "execution_count": 53,
     "metadata": {},
     "output_type": "execute_result"
    }
   ],
   "source": [
    "#1 for Male and 0 for female\n",
    "pred('vishal')"
   ]
  },
  {
   "cell_type": "code",
   "execution_count": 62,
   "metadata": {},
   "outputs": [
    {
     "name": "stdout",
     "output_type": "stream",
     "text": [
      "rajeev is Male\n",
      "sudha is Female\n",
      "rahul is Male\n",
      "john is Male\n",
      "Chung is Male\n",
      "manga is Female\n",
      "Xena is Female\n",
      "aliabhatt is Female\n",
      "rithvik is Male\n",
      "gladiator is Male\n",
      "optumus is Male\n",
      "paul is Male\n"
     ]
    }
   ],
   "source": [
    "name_list = ['rajeev','sudha','rahul','john','Chung','manga','Xena','aliabhatt','rithvik','gladiator','optumus','paul']\n",
    "for i in name_list:\n",
    "    if pred(i) == 0:\n",
    "        print(i,'is Female')\n",
    "    else:\n",
    "        print(i,'is Male')"
   ]
  },
  {
   "cell_type": "code",
   "execution_count": 63,
   "metadata": {},
   "outputs": [],
   "source": [
    "model.save('model.h5')"
   ]
  },
  {
   "cell_type": "code",
   "execution_count": null,
   "metadata": {},
   "outputs": [],
   "source": []
  }
 ],
 "metadata": {
  "kernelspec": {
   "display_name": "Python 3",
   "language": "python",
   "name": "python3"
  },
  "language_info": {
   "codemirror_mode": {
    "name": "ipython",
    "version": 3
   },
   "file_extension": ".py",
   "mimetype": "text/x-python",
   "name": "python",
   "nbconvert_exporter": "python",
   "pygments_lexer": "ipython3",
   "version": "3.7.9"
  }
 },
 "nbformat": 4,
 "nbformat_minor": 4
}
